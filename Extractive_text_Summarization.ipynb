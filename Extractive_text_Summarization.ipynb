{
  "cells": [
    {
      "cell_type": "code",
      "source": [
        "\"\"\"it will understand and summarize the text\"\"\""
      ],
      "metadata": {
        "id": "E75x5esy4Dja"
      },
      "execution_count": null,
      "outputs": []
    },
    {
      "cell_type": "code",
      "execution_count": 1,
      "metadata": {
        "id": "uAFGH-JYLYVe"
      },
      "outputs": [],
      "source": [
        "text=\"\"\"Known for his action star persona, N.T. Rama Rao Jr. , commonly referred to as Tarak or Jr NTR is the grandson of legendary Telugu actor and politician N.T. Rama Rao. Tarak is the most successful star from Nandamuri family working in the Telugu film industry.\n",
        "\n",
        "Tarak was born on 20th May 1983 in Hyderabad, Andhra Pradesh (currently in Telangana), India to Nandamuri Harikrishna and Shalini Rao. Tarak learnt the Kuchipudi dance form in his early childhood and gave many stage performances in India and abroad.\n",
        "\n",
        "Tarak was selected by acclaimed Telugu director Gunasekhar to star as the mythological character Lord Ram in the children's film Ramayanam (1996), marking his debut in movies. After starring in a few TV serials, he made his adult debut in movies with Ninnu Choodalani (2001) directed by V.R. Pratap. He has since then starred in over thirty movies in leading roles. He is the recipient of two Filmfare Awards, two Nandi awards and four CineMAA awards.\n",
        "- IMDb Mini Biography By: Tarun Sreenivas Chavali\"\"\""
      ]
    },
    {
      "cell_type": "code",
      "execution_count": 2,
      "metadata": {
        "colab": {
          "base_uri": "https://localhost:8080/"
        },
        "id": "GCAjCxBpL8oD",
        "outputId": "f9dbe952-ae7b-4860-87c2-0b8b6873f201"
      },
      "outputs": [
        {
          "output_type": "execute_result",
          "data": {
            "text/plain": [
              "1013"
            ]
          },
          "metadata": {},
          "execution_count": 2
        }
      ],
      "source": [
        "len(text)"
      ]
    },
    {
      "cell_type": "code",
      "execution_count": 3,
      "metadata": {
        "id": "L2xQmlzDMCmz"
      },
      "outputs": [],
      "source": [
        "import spacy\n",
        "from spacy.lang.en.stop_words import STOP_WORDS\n",
        "from string import punctuation"
      ]
    },
    {
      "cell_type": "code",
      "execution_count": 4,
      "metadata": {
        "id": "mLz7E_dlP4TD"
      },
      "outputs": [],
      "source": [
        "nlp=spacy.load('en_core_web_sm')"
      ]
    },
    {
      "cell_type": "code",
      "execution_count": 5,
      "metadata": {
        "id": "igA4oULXQezR"
      },
      "outputs": [],
      "source": [
        "doc=nlp(text)"
      ]
    },
    {
      "cell_type": "code",
      "execution_count": 7,
      "metadata": {
        "id": "UpbW3_kkO-Ci"
      },
      "outputs": [],
      "source": [
        "tokens1=[]\n",
        "sw=list(STOP_WORDS)\n",
        "allowed_pos=['ADJ','PROPN','VERB','NOUN']\n",
        "for token in doc:\n",
        "  if token.text not in sw and token.text not in punctuation and token.pos_ in allowed_pos:\n",
        "    tokens1.append(token.text)"
      ]
    },
    {
      "cell_type": "code",
      "execution_count": 8,
      "metadata": {
        "colab": {
          "base_uri": "https://localhost:8080/"
        },
        "id": "TKYOpZfTRSpW",
        "outputId": "333866b5-aa8c-4e5b-a932-e30074b8dce7"
      },
      "outputs": [
        {
          "output_type": "execute_result",
          "data": {
            "text/plain": [
              "['Known',\n",
              " 'action',\n",
              " 'star',\n",
              " 'persona',\n",
              " 'N.T.',\n",
              " 'Rama',\n",
              " 'Rao',\n",
              " 'Jr.',\n",
              " 'referred',\n",
              " 'Tarak',\n",
              " 'Jr',\n",
              " 'NTR',\n",
              " 'grandson',\n",
              " 'legendary',\n",
              " 'Telugu',\n",
              " 'actor',\n",
              " 'politician',\n",
              " 'N.T.',\n",
              " 'Rama',\n",
              " 'Rao',\n",
              " 'Tarak',\n",
              " 'successful',\n",
              " 'star',\n",
              " 'Nandamuri',\n",
              " 'family',\n",
              " 'working',\n",
              " 'Telugu',\n",
              " 'film',\n",
              " 'industry',\n",
              " 'Tarak',\n",
              " 'born',\n",
              " '20th',\n",
              " 'May',\n",
              " 'Hyderabad',\n",
              " 'Andhra',\n",
              " 'Pradesh',\n",
              " 'Telangana',\n",
              " 'India',\n",
              " 'Nandamuri',\n",
              " 'Harikrishna',\n",
              " 'Shalini',\n",
              " 'Rao',\n",
              " 'Tarak',\n",
              " 'learnt',\n",
              " 'Kuchipudi',\n",
              " 'dance',\n",
              " 'form',\n",
              " 'early',\n",
              " 'childhood',\n",
              " 'gave',\n",
              " 'stage',\n",
              " 'performances',\n",
              " 'India',\n",
              " 'Tarak',\n",
              " 'selected',\n",
              " 'acclaimed',\n",
              " 'Telugu',\n",
              " 'director',\n",
              " 'Gunasekhar',\n",
              " 'star',\n",
              " 'mythological',\n",
              " 'character',\n",
              " 'Lord',\n",
              " 'Ram',\n",
              " 'children',\n",
              " 'film',\n",
              " 'Ramayanam',\n",
              " 'marking',\n",
              " 'debut',\n",
              " 'movies',\n",
              " 'starring',\n",
              " 'TV',\n",
              " 'serials',\n",
              " 'adult',\n",
              " 'debut',\n",
              " 'movies',\n",
              " 'Ninnu',\n",
              " 'Choodalani',\n",
              " 'directed',\n",
              " 'V.R.',\n",
              " 'Pratap',\n",
              " 'starred',\n",
              " 'movies',\n",
              " 'leading',\n",
              " 'roles',\n",
              " 'recipient',\n",
              " 'Filmfare',\n",
              " 'Awards',\n",
              " 'Nandi',\n",
              " 'awards',\n",
              " 'CineMAA',\n",
              " 'awards',\n",
              " 'IMDb',\n",
              " 'Mini',\n",
              " 'Biography',\n",
              " 'Tarun',\n",
              " 'Sreenivas',\n",
              " 'Chavali']"
            ]
          },
          "metadata": {},
          "execution_count": 8
        }
      ],
      "source": [
        "tokens1"
      ]
    },
    {
      "cell_type": "code",
      "execution_count": 9,
      "metadata": {
        "colab": {
          "base_uri": "https://localhost:8080/"
        },
        "id": "cVAE3xxNTahA",
        "outputId": "16905c03-0766-4028-f370-9cfb21b36b1e"
      },
      "outputs": [
        {
          "output_type": "execute_result",
          "data": {
            "text/plain": [
              "Counter({'Known': 1,\n",
              "         'action': 1,\n",
              "         'star': 3,\n",
              "         'persona': 1,\n",
              "         'N.T.': 2,\n",
              "         'Rama': 2,\n",
              "         'Rao': 3,\n",
              "         'Jr.': 1,\n",
              "         'referred': 1,\n",
              "         'Tarak': 5,\n",
              "         'Jr': 1,\n",
              "         'NTR': 1,\n",
              "         'grandson': 1,\n",
              "         'legendary': 1,\n",
              "         'Telugu': 3,\n",
              "         'actor': 1,\n",
              "         'politician': 1,\n",
              "         'successful': 1,\n",
              "         'Nandamuri': 2,\n",
              "         'family': 1,\n",
              "         'working': 1,\n",
              "         'film': 2,\n",
              "         'industry': 1,\n",
              "         'born': 1,\n",
              "         '20th': 1,\n",
              "         'May': 1,\n",
              "         'Hyderabad': 1,\n",
              "         'Andhra': 1,\n",
              "         'Pradesh': 1,\n",
              "         'Telangana': 1,\n",
              "         'India': 2,\n",
              "         'Harikrishna': 1,\n",
              "         'Shalini': 1,\n",
              "         'learnt': 1,\n",
              "         'Kuchipudi': 1,\n",
              "         'dance': 1,\n",
              "         'form': 1,\n",
              "         'early': 1,\n",
              "         'childhood': 1,\n",
              "         'gave': 1,\n",
              "         'stage': 1,\n",
              "         'performances': 1,\n",
              "         'selected': 1,\n",
              "         'acclaimed': 1,\n",
              "         'director': 1,\n",
              "         'Gunasekhar': 1,\n",
              "         'mythological': 1,\n",
              "         'character': 1,\n",
              "         'Lord': 1,\n",
              "         'Ram': 1,\n",
              "         'children': 1,\n",
              "         'Ramayanam': 1,\n",
              "         'marking': 1,\n",
              "         'debut': 2,\n",
              "         'movies': 3,\n",
              "         'starring': 1,\n",
              "         'TV': 1,\n",
              "         'serials': 1,\n",
              "         'adult': 1,\n",
              "         'Ninnu': 1,\n",
              "         'Choodalani': 1,\n",
              "         'directed': 1,\n",
              "         'V.R.': 1,\n",
              "         'Pratap': 1,\n",
              "         'starred': 1,\n",
              "         'leading': 1,\n",
              "         'roles': 1,\n",
              "         'recipient': 1,\n",
              "         'Filmfare': 1,\n",
              "         'Awards': 1,\n",
              "         'Nandi': 1,\n",
              "         'awards': 2,\n",
              "         'CineMAA': 1,\n",
              "         'IMDb': 1,\n",
              "         'Mini': 1,\n",
              "         'Biography': 1,\n",
              "         'Tarun': 1,\n",
              "         'Sreenivas': 1,\n",
              "         'Chavali': 1})"
            ]
          },
          "metadata": {},
          "execution_count": 9
        }
      ],
      "source": [
        "from collections import Counter\n",
        "word_freq=Counter(tokens1)\n",
        "word_freq"
      ]
    },
    {
      "cell_type": "code",
      "execution_count": 10,
      "metadata": {
        "colab": {
          "base_uri": "https://localhost:8080/"
        },
        "id": "s1fd3KO8UBrR",
        "outputId": "18e3e3b2-8484-4a3e-e6c8-f28c364e16a0"
      },
      "outputs": [
        {
          "output_type": "execute_result",
          "data": {
            "text/plain": [
              "5"
            ]
          },
          "metadata": {},
          "execution_count": 10
        }
      ],
      "source": [
        "max_freq=max(word_freq.values())\n",
        "max_freq"
      ]
    },
    {
      "cell_type": "code",
      "execution_count": 11,
      "metadata": {
        "id": "2zd7N5VcVFnc"
      },
      "outputs": [],
      "source": [
        "for word in word_freq.keys():\n",
        "  word_freq[word]=word_freq[word]/max_freq\n"
      ]
    },
    {
      "cell_type": "code",
      "execution_count": 12,
      "metadata": {
        "colab": {
          "base_uri": "https://localhost:8080/"
        },
        "id": "PsKEkVdhVtix",
        "outputId": "321f35eb-c3e5-4959-bebb-f649767bd75b"
      },
      "outputs": [
        {
          "output_type": "execute_result",
          "data": {
            "text/plain": [
              "Counter({'Known': 0.2,\n",
              "         'action': 0.2,\n",
              "         'star': 0.6,\n",
              "         'persona': 0.2,\n",
              "         'N.T.': 0.4,\n",
              "         'Rama': 0.4,\n",
              "         'Rao': 0.6,\n",
              "         'Jr.': 0.2,\n",
              "         'referred': 0.2,\n",
              "         'Tarak': 1.0,\n",
              "         'Jr': 0.2,\n",
              "         'NTR': 0.2,\n",
              "         'grandson': 0.2,\n",
              "         'legendary': 0.2,\n",
              "         'Telugu': 0.6,\n",
              "         'actor': 0.2,\n",
              "         'politician': 0.2,\n",
              "         'successful': 0.2,\n",
              "         'Nandamuri': 0.4,\n",
              "         'family': 0.2,\n",
              "         'working': 0.2,\n",
              "         'film': 0.4,\n",
              "         'industry': 0.2,\n",
              "         'born': 0.2,\n",
              "         '20th': 0.2,\n",
              "         'May': 0.2,\n",
              "         'Hyderabad': 0.2,\n",
              "         'Andhra': 0.2,\n",
              "         'Pradesh': 0.2,\n",
              "         'Telangana': 0.2,\n",
              "         'India': 0.4,\n",
              "         'Harikrishna': 0.2,\n",
              "         'Shalini': 0.2,\n",
              "         'learnt': 0.2,\n",
              "         'Kuchipudi': 0.2,\n",
              "         'dance': 0.2,\n",
              "         'form': 0.2,\n",
              "         'early': 0.2,\n",
              "         'childhood': 0.2,\n",
              "         'gave': 0.2,\n",
              "         'stage': 0.2,\n",
              "         'performances': 0.2,\n",
              "         'selected': 0.2,\n",
              "         'acclaimed': 0.2,\n",
              "         'director': 0.2,\n",
              "         'Gunasekhar': 0.2,\n",
              "         'mythological': 0.2,\n",
              "         'character': 0.2,\n",
              "         'Lord': 0.2,\n",
              "         'Ram': 0.2,\n",
              "         'children': 0.2,\n",
              "         'Ramayanam': 0.2,\n",
              "         'marking': 0.2,\n",
              "         'debut': 0.4,\n",
              "         'movies': 0.6,\n",
              "         'starring': 0.2,\n",
              "         'TV': 0.2,\n",
              "         'serials': 0.2,\n",
              "         'adult': 0.2,\n",
              "         'Ninnu': 0.2,\n",
              "         'Choodalani': 0.2,\n",
              "         'directed': 0.2,\n",
              "         'V.R.': 0.2,\n",
              "         'Pratap': 0.2,\n",
              "         'starred': 0.2,\n",
              "         'leading': 0.2,\n",
              "         'roles': 0.2,\n",
              "         'recipient': 0.2,\n",
              "         'Filmfare': 0.2,\n",
              "         'Awards': 0.2,\n",
              "         'Nandi': 0.2,\n",
              "         'awards': 0.4,\n",
              "         'CineMAA': 0.2,\n",
              "         'IMDb': 0.2,\n",
              "         'Mini': 0.2,\n",
              "         'Biography': 0.2,\n",
              "         'Tarun': 0.2,\n",
              "         'Sreenivas': 0.2,\n",
              "         'Chavali': 0.2})"
            ]
          },
          "metadata": {},
          "execution_count": 12
        }
      ],
      "source": [
        "word_freq"
      ]
    },
    {
      "cell_type": "code",
      "execution_count": 13,
      "metadata": {
        "colab": {
          "base_uri": "https://localhost:8080/"
        },
        "id": "j2p9iPQ6WAvV",
        "outputId": "f45061a2-0e62-4f75-fda5-8ee1de53ffb0"
      },
      "outputs": [
        {
          "output_type": "execute_result",
          "data": {
            "text/plain": [
              "['Known for his action star persona, N.T. Rama Rao Jr. , commonly referred to as Tarak or Jr NTR is the grandson of legendary Telugu actor and politician N.T. Rama Rao.',\n",
              " 'Tarak is the most successful star from Nandamuri family working in the Telugu film industry.\\n\\n',\n",
              " 'Tarak was born on 20th May 1983 in Hyderabad, Andhra Pradesh (currently in Telangana), India to Nandamuri Harikrishna and Shalini Rao.',\n",
              " 'Tarak learnt the Kuchipudi dance form in his early childhood and gave many stage performances in India and abroad.\\n\\n',\n",
              " \"Tarak was selected by acclaimed Telugu director Gunasekhar to star as the mythological character Lord Ram in the children's film Ramayanam (1996), marking his debut in movies.\",\n",
              " 'After starring in a few TV serials, he made his adult debut in movies with Ninnu Choodalani (2001) directed by V.R. Pratap.',\n",
              " 'He has since then starred in over thirty movies in leading roles.',\n",
              " 'He is the recipient of two Filmfare Awards, two Nandi awards and four CineMAA awards.\\n- IMDb Mini Biography By: Tarun Sreenivas Chavali']"
            ]
          },
          "metadata": {},
          "execution_count": 13
        }
      ],
      "source": [
        "sen_token=[sent.text for sent in doc.sents]\n",
        "sen_token"
      ]
    },
    {
      "cell_type": "code",
      "execution_count": 14,
      "metadata": {
        "colab": {
          "base_uri": "https://localhost:8080/"
        },
        "id": "4qI-VYTWa8hk",
        "outputId": "fb613bb6-48f2-44de-9348-4ea148c4a4e4"
      },
      "outputs": [
        {
          "output_type": "stream",
          "name": "stdout",
          "text": [
            "Rao.\n",
            "industry.\n",
            "Rao.\n",
            "abroad.\n",
            "movies.\n",
            "Pratap.\n",
            "roles.\n",
            "Chavali\n"
          ]
        }
      ],
      "source": [
        "sen_score={}\n",
        "for sen in sen_token:\n",
        "  for word in sen.split():\n",
        "    if word.lower() in word_freq.keys():\n",
        "      if sen not in sen_score.keys():\n",
        "        sen_score[sen]=word_freq[word]\n",
        "      else:\n",
        "        sen_score[sen]+=word_freq[word]\n",
        "  print(word)"
      ]
    },
    {
      "cell_type": "code",
      "execution_count": 15,
      "metadata": {
        "colab": {
          "base_uri": "https://localhost:8080/"
        },
        "id": "k25pyOkkcyMv",
        "outputId": "0fdb31f4-d46b-4454-9827-e6b7b30c12d3"
      },
      "outputs": [
        {
          "output_type": "execute_result",
          "data": {
            "text/plain": [
              "{'Known for his action star persona, N.T. Rama Rao Jr. , commonly referred to as Tarak or Jr NTR is the grandson of legendary Telugu actor and politician N.T. Rama Rao.': 1.7999999999999998,\n",
              " 'Tarak is the most successful star from Nandamuri family working in the Telugu film industry.\\n\\n': 1.6,\n",
              " 'Tarak was born on 20th May 1983 in Hyderabad, Andhra Pradesh (currently in Telangana), India to Nandamuri Harikrishna and Shalini Rao.': 0.4,\n",
              " 'Tarak learnt the Kuchipudi dance form in his early childhood and gave many stage performances in India and abroad.\\n\\n': 1.5999999999999999,\n",
              " \"Tarak was selected by acclaimed Telugu director Gunasekhar to star as the mythological character Lord Ram in the children's film Ramayanam (1996), marking his debut in movies.\": 2.6,\n",
              " 'After starring in a few TV serials, he made his adult debut in movies with Ninnu Choodalani (2001) directed by V.R. Pratap.': 1.5999999999999999,\n",
              " 'He has since then starred in over thirty movies in leading roles.': 1.0,\n",
              " 'He is the recipient of two Filmfare Awards, two Nandi awards and four CineMAA awards.\\n- IMDb Mini Biography By: Tarun Sreenivas Chavali': 0.6000000000000001}"
            ]
          },
          "metadata": {},
          "execution_count": 15
        }
      ],
      "source": [
        "sen_score"
      ]
    },
    {
      "cell_type": "code",
      "execution_count": 16,
      "metadata": {
        "colab": {
          "base_uri": "https://localhost:8080/",
          "height": 300
        },
        "id": "ogA0vtmfdAaw",
        "outputId": "dc13df1c-48ba-414c-8268-ba8c7f7611fd"
      },
      "outputs": [
        {
          "output_type": "execute_result",
          "data": {
            "text/plain": [
              "                                            sentence  score\n",
              "0  Known for his action star persona, N.T. Rama R...    1.8\n",
              "1  Tarak is the most successful star from Nandamu...    1.6\n",
              "2  Tarak was born on 20th May 1983 in Hyderabad, ...    0.4\n",
              "3  Tarak learnt the Kuchipudi dance form in his e...    1.6\n",
              "4  Tarak was selected by acclaimed Telugu directo...    2.6\n",
              "5  After starring in a few TV serials, he made hi...    1.6\n",
              "6  He has since then starred in over thirty movie...    1.0\n",
              "7  He is the recipient of two Filmfare Awards, tw...    0.6"
            ],
            "text/html": [
              "\n",
              "  <div id=\"df-1c22b78d-48ff-41ed-8c7f-76681d353959\" class=\"colab-df-container\">\n",
              "    <div>\n",
              "<style scoped>\n",
              "    .dataframe tbody tr th:only-of-type {\n",
              "        vertical-align: middle;\n",
              "    }\n",
              "\n",
              "    .dataframe tbody tr th {\n",
              "        vertical-align: top;\n",
              "    }\n",
              "\n",
              "    .dataframe thead th {\n",
              "        text-align: right;\n",
              "    }\n",
              "</style>\n",
              "<table border=\"1\" class=\"dataframe\">\n",
              "  <thead>\n",
              "    <tr style=\"text-align: right;\">\n",
              "      <th></th>\n",
              "      <th>sentence</th>\n",
              "      <th>score</th>\n",
              "    </tr>\n",
              "  </thead>\n",
              "  <tbody>\n",
              "    <tr>\n",
              "      <th>0</th>\n",
              "      <td>Known for his action star persona, N.T. Rama R...</td>\n",
              "      <td>1.8</td>\n",
              "    </tr>\n",
              "    <tr>\n",
              "      <th>1</th>\n",
              "      <td>Tarak is the most successful star from Nandamu...</td>\n",
              "      <td>1.6</td>\n",
              "    </tr>\n",
              "    <tr>\n",
              "      <th>2</th>\n",
              "      <td>Tarak was born on 20th May 1983 in Hyderabad, ...</td>\n",
              "      <td>0.4</td>\n",
              "    </tr>\n",
              "    <tr>\n",
              "      <th>3</th>\n",
              "      <td>Tarak learnt the Kuchipudi dance form in his e...</td>\n",
              "      <td>1.6</td>\n",
              "    </tr>\n",
              "    <tr>\n",
              "      <th>4</th>\n",
              "      <td>Tarak was selected by acclaimed Telugu directo...</td>\n",
              "      <td>2.6</td>\n",
              "    </tr>\n",
              "    <tr>\n",
              "      <th>5</th>\n",
              "      <td>After starring in a few TV serials, he made hi...</td>\n",
              "      <td>1.6</td>\n",
              "    </tr>\n",
              "    <tr>\n",
              "      <th>6</th>\n",
              "      <td>He has since then starred in over thirty movie...</td>\n",
              "      <td>1.0</td>\n",
              "    </tr>\n",
              "    <tr>\n",
              "      <th>7</th>\n",
              "      <td>He is the recipient of two Filmfare Awards, tw...</td>\n",
              "      <td>0.6</td>\n",
              "    </tr>\n",
              "  </tbody>\n",
              "</table>\n",
              "</div>\n",
              "    <div class=\"colab-df-buttons\">\n",
              "\n",
              "  <div class=\"colab-df-container\">\n",
              "    <button class=\"colab-df-convert\" onclick=\"convertToInteractive('df-1c22b78d-48ff-41ed-8c7f-76681d353959')\"\n",
              "            title=\"Convert this dataframe to an interactive table.\"\n",
              "            style=\"display:none;\">\n",
              "\n",
              "  <svg xmlns=\"http://www.w3.org/2000/svg\" height=\"24px\" viewBox=\"0 -960 960 960\">\n",
              "    <path d=\"M120-120v-720h720v720H120Zm60-500h600v-160H180v160Zm220 220h160v-160H400v160Zm0 220h160v-160H400v160ZM180-400h160v-160H180v160Zm440 0h160v-160H620v160ZM180-180h160v-160H180v160Zm440 0h160v-160H620v160Z\"/>\n",
              "  </svg>\n",
              "    </button>\n",
              "\n",
              "  <style>\n",
              "    .colab-df-container {\n",
              "      display:flex;\n",
              "      gap: 12px;\n",
              "    }\n",
              "\n",
              "    .colab-df-convert {\n",
              "      background-color: #E8F0FE;\n",
              "      border: none;\n",
              "      border-radius: 50%;\n",
              "      cursor: pointer;\n",
              "      display: none;\n",
              "      fill: #1967D2;\n",
              "      height: 32px;\n",
              "      padding: 0 0 0 0;\n",
              "      width: 32px;\n",
              "    }\n",
              "\n",
              "    .colab-df-convert:hover {\n",
              "      background-color: #E2EBFA;\n",
              "      box-shadow: 0px 1px 2px rgba(60, 64, 67, 0.3), 0px 1px 3px 1px rgba(60, 64, 67, 0.15);\n",
              "      fill: #174EA6;\n",
              "    }\n",
              "\n",
              "    .colab-df-buttons div {\n",
              "      margin-bottom: 4px;\n",
              "    }\n",
              "\n",
              "    [theme=dark] .colab-df-convert {\n",
              "      background-color: #3B4455;\n",
              "      fill: #D2E3FC;\n",
              "    }\n",
              "\n",
              "    [theme=dark] .colab-df-convert:hover {\n",
              "      background-color: #434B5C;\n",
              "      box-shadow: 0px 1px 3px 1px rgba(0, 0, 0, 0.15);\n",
              "      filter: drop-shadow(0px 1px 2px rgba(0, 0, 0, 0.3));\n",
              "      fill: #FFFFFF;\n",
              "    }\n",
              "  </style>\n",
              "\n",
              "    <script>\n",
              "      const buttonEl =\n",
              "        document.querySelector('#df-1c22b78d-48ff-41ed-8c7f-76681d353959 button.colab-df-convert');\n",
              "      buttonEl.style.display =\n",
              "        google.colab.kernel.accessAllowed ? 'block' : 'none';\n",
              "\n",
              "      async function convertToInteractive(key) {\n",
              "        const element = document.querySelector('#df-1c22b78d-48ff-41ed-8c7f-76681d353959');\n",
              "        const dataTable =\n",
              "          await google.colab.kernel.invokeFunction('convertToInteractive',\n",
              "                                                    [key], {});\n",
              "        if (!dataTable) return;\n",
              "\n",
              "        const docLinkHtml = 'Like what you see? Visit the ' +\n",
              "          '<a target=\"_blank\" href=https://colab.research.google.com/notebooks/data_table.ipynb>data table notebook</a>'\n",
              "          + ' to learn more about interactive tables.';\n",
              "        element.innerHTML = '';\n",
              "        dataTable['output_type'] = 'display_data';\n",
              "        await google.colab.output.renderOutput(dataTable, element);\n",
              "        const docLink = document.createElement('div');\n",
              "        docLink.innerHTML = docLinkHtml;\n",
              "        element.appendChild(docLink);\n",
              "      }\n",
              "    </script>\n",
              "  </div>\n",
              "\n",
              "\n",
              "<div id=\"df-959f727b-f1a0-40a4-a01a-a4e3394689a3\">\n",
              "  <button class=\"colab-df-quickchart\" onclick=\"quickchart('df-959f727b-f1a0-40a4-a01a-a4e3394689a3')\"\n",
              "            title=\"Suggest charts\"\n",
              "            style=\"display:none;\">\n",
              "\n",
              "<svg xmlns=\"http://www.w3.org/2000/svg\" height=\"24px\"viewBox=\"0 0 24 24\"\n",
              "     width=\"24px\">\n",
              "    <g>\n",
              "        <path d=\"M19 3H5c-1.1 0-2 .9-2 2v14c0 1.1.9 2 2 2h14c1.1 0 2-.9 2-2V5c0-1.1-.9-2-2-2zM9 17H7v-7h2v7zm4 0h-2V7h2v10zm4 0h-2v-4h2v4z\"/>\n",
              "    </g>\n",
              "</svg>\n",
              "  </button>\n",
              "\n",
              "<style>\n",
              "  .colab-df-quickchart {\n",
              "      --bg-color: #E8F0FE;\n",
              "      --fill-color: #1967D2;\n",
              "      --hover-bg-color: #E2EBFA;\n",
              "      --hover-fill-color: #174EA6;\n",
              "      --disabled-fill-color: #AAA;\n",
              "      --disabled-bg-color: #DDD;\n",
              "  }\n",
              "\n",
              "  [theme=dark] .colab-df-quickchart {\n",
              "      --bg-color: #3B4455;\n",
              "      --fill-color: #D2E3FC;\n",
              "      --hover-bg-color: #434B5C;\n",
              "      --hover-fill-color: #FFFFFF;\n",
              "      --disabled-bg-color: #3B4455;\n",
              "      --disabled-fill-color: #666;\n",
              "  }\n",
              "\n",
              "  .colab-df-quickchart {\n",
              "    background-color: var(--bg-color);\n",
              "    border: none;\n",
              "    border-radius: 50%;\n",
              "    cursor: pointer;\n",
              "    display: none;\n",
              "    fill: var(--fill-color);\n",
              "    height: 32px;\n",
              "    padding: 0;\n",
              "    width: 32px;\n",
              "  }\n",
              "\n",
              "  .colab-df-quickchart:hover {\n",
              "    background-color: var(--hover-bg-color);\n",
              "    box-shadow: 0 1px 2px rgba(60, 64, 67, 0.3), 0 1px 3px 1px rgba(60, 64, 67, 0.15);\n",
              "    fill: var(--button-hover-fill-color);\n",
              "  }\n",
              "\n",
              "  .colab-df-quickchart-complete:disabled,\n",
              "  .colab-df-quickchart-complete:disabled:hover {\n",
              "    background-color: var(--disabled-bg-color);\n",
              "    fill: var(--disabled-fill-color);\n",
              "    box-shadow: none;\n",
              "  }\n",
              "\n",
              "  .colab-df-spinner {\n",
              "    border: 2px solid var(--fill-color);\n",
              "    border-color: transparent;\n",
              "    border-bottom-color: var(--fill-color);\n",
              "    animation:\n",
              "      spin 1s steps(1) infinite;\n",
              "  }\n",
              "\n",
              "  @keyframes spin {\n",
              "    0% {\n",
              "      border-color: transparent;\n",
              "      border-bottom-color: var(--fill-color);\n",
              "      border-left-color: var(--fill-color);\n",
              "    }\n",
              "    20% {\n",
              "      border-color: transparent;\n",
              "      border-left-color: var(--fill-color);\n",
              "      border-top-color: var(--fill-color);\n",
              "    }\n",
              "    30% {\n",
              "      border-color: transparent;\n",
              "      border-left-color: var(--fill-color);\n",
              "      border-top-color: var(--fill-color);\n",
              "      border-right-color: var(--fill-color);\n",
              "    }\n",
              "    40% {\n",
              "      border-color: transparent;\n",
              "      border-right-color: var(--fill-color);\n",
              "      border-top-color: var(--fill-color);\n",
              "    }\n",
              "    60% {\n",
              "      border-color: transparent;\n",
              "      border-right-color: var(--fill-color);\n",
              "    }\n",
              "    80% {\n",
              "      border-color: transparent;\n",
              "      border-right-color: var(--fill-color);\n",
              "      border-bottom-color: var(--fill-color);\n",
              "    }\n",
              "    90% {\n",
              "      border-color: transparent;\n",
              "      border-bottom-color: var(--fill-color);\n",
              "    }\n",
              "  }\n",
              "</style>\n",
              "\n",
              "  <script>\n",
              "    async function quickchart(key) {\n",
              "      const quickchartButtonEl =\n",
              "        document.querySelector('#' + key + ' button');\n",
              "      quickchartButtonEl.disabled = true;  // To prevent multiple clicks.\n",
              "      quickchartButtonEl.classList.add('colab-df-spinner');\n",
              "      try {\n",
              "        const charts = await google.colab.kernel.invokeFunction(\n",
              "            'suggestCharts', [key], {});\n",
              "      } catch (error) {\n",
              "        console.error('Error during call to suggestCharts:', error);\n",
              "      }\n",
              "      quickchartButtonEl.classList.remove('colab-df-spinner');\n",
              "      quickchartButtonEl.classList.add('colab-df-quickchart-complete');\n",
              "    }\n",
              "    (() => {\n",
              "      let quickchartButtonEl =\n",
              "        document.querySelector('#df-959f727b-f1a0-40a4-a01a-a4e3394689a3 button');\n",
              "      quickchartButtonEl.style.display =\n",
              "        google.colab.kernel.accessAllowed ? 'block' : 'none';\n",
              "    })();\n",
              "  </script>\n",
              "</div>\n",
              "\n",
              "    </div>\n",
              "  </div>\n"
            ],
            "application/vnd.google.colaboratory.intrinsic+json": {
              "type": "dataframe",
              "summary": "{\n  \"name\": \"pd\",\n  \"rows\": 8,\n  \"fields\": [\n    {\n      \"column\": \"sentence\",\n      \"properties\": {\n        \"dtype\": \"string\",\n        \"num_unique_values\": 8,\n        \"samples\": [\n          \"Tarak is the most successful star from Nandamuri family working in the Telugu film industry.\\n\\n\",\n          \"After starring in a few TV serials, he made his adult debut in movies with Ninnu Choodalani (2001) directed by V.R. Pratap.\",\n          \"Known for his action star persona, N.T. Rama Rao Jr. , commonly referred to as Tarak or Jr NTR is the grandson of legendary Telugu actor and politician N.T. Rama Rao.\"\n        ],\n        \"semantic_type\": \"\",\n        \"description\": \"\"\n      }\n    },\n    {\n      \"column\": \"score\",\n      \"properties\": {\n        \"dtype\": \"number\",\n        \"std\": 0.7091242083423346,\n        \"min\": 0.4,\n        \"max\": 2.6,\n        \"num_unique_values\": 7,\n        \"samples\": [\n          1.7999999999999998,\n          1.6,\n          1.0\n        ],\n        \"semantic_type\": \"\",\n        \"description\": \"\"\n      }\n    }\n  ]\n}"
            }
          },
          "metadata": {},
          "execution_count": 16
        }
      ],
      "source": [
        "import pandas as pd\n",
        "pd.DataFrame(list(sen_score.items()),columns=['sentence','score'])"
      ]
    },
    {
      "cell_type": "code",
      "execution_count": 17,
      "metadata": {
        "colab": {
          "base_uri": "https://localhost:8080/"
        },
        "id": "HletWC1GdxLL",
        "outputId": "14716100-2963-43cd-dc59-d95928ef0831"
      },
      "outputs": [
        {
          "output_type": "execute_result",
          "data": {
            "text/plain": [
              "2.6"
            ]
          },
          "metadata": {},
          "execution_count": 17
        }
      ],
      "source": [
        "max(sen_score.values())"
      ]
    },
    {
      "cell_type": "code",
      "execution_count": 18,
      "metadata": {
        "colab": {
          "base_uri": "https://localhost:8080/",
          "height": 35
        },
        "id": "XSxoioZieeME",
        "outputId": "0b671940-7517-4ff0-f987-4a012359198f"
      },
      "outputs": [
        {
          "output_type": "execute_result",
          "data": {
            "text/plain": [
              "\"Tarak was selected by acclaimed Telugu director Gunasekhar to star as the mythological character Lord Ram in the children's film Ramayanam (1996), marking his debut in movies.\""
            ],
            "application/vnd.google.colaboratory.intrinsic+json": {
              "type": "string"
            }
          },
          "metadata": {},
          "execution_count": 18
        }
      ],
      "source": [
        "from heapq import nlargest\n",
        "n_sen=1\n",
        "n=nlargest(n_sen,sen_score,key=sen_score.get)\n",
        "\"\".join(n)"
      ]
    }
  ],
  "metadata": {
    "colab": {
      "provenance": []
    },
    "kernelspec": {
      "display_name": "Python 3",
      "name": "python3"
    },
    "language_info": {
      "name": "python"
    }
  },
  "nbformat": 4,
  "nbformat_minor": 0
}